{
 "cells": [
  {
   "cell_type": "code",
   "execution_count": 14,
   "id": "7a06b002",
   "metadata": {},
   "outputs": [],
   "source": [
    "# loading libraries\n",
    "import pandas as pd\n",
    "import matplotlib.pyplot as plt\n",
    "import numpy as np"
   ]
  },
  {
   "cell_type": "code",
   "execution_count": 15,
   "id": "83c2fa24",
   "metadata": {},
   "outputs": [
    {
     "data": {
      "text/html": [
       "<div>\n",
       "<style scoped>\n",
       "    .dataframe tbody tr th:only-of-type {\n",
       "        vertical-align: middle;\n",
       "    }\n",
       "\n",
       "    .dataframe tbody tr th {\n",
       "        vertical-align: top;\n",
       "    }\n",
       "\n",
       "    .dataframe thead th {\n",
       "        text-align: right;\n",
       "    }\n",
       "</style>\n",
       "<table border=\"1\" class=\"dataframe\">\n",
       "  <thead>\n",
       "    <tr style=\"text-align: right;\">\n",
       "      <th></th>\n",
       "      <th>Year</th>\n",
       "      <th>Month</th>\n",
       "      <th>Inflation</th>\n",
       "    </tr>\n",
       "  </thead>\n",
       "  <tbody>\n",
       "    <tr>\n",
       "      <th>0</th>\n",
       "      <td>2001</td>\n",
       "      <td>1</td>\n",
       "      <td>7.4</td>\n",
       "    </tr>\n",
       "    <tr>\n",
       "      <th>1</th>\n",
       "      <td>2001</td>\n",
       "      <td>2</td>\n",
       "      <td>6.6</td>\n",
       "    </tr>\n",
       "    <tr>\n",
       "      <th>2</th>\n",
       "      <td>2001</td>\n",
       "      <td>3</td>\n",
       "      <td>6.2</td>\n",
       "    </tr>\n",
       "    <tr>\n",
       "      <th>3</th>\n",
       "      <td>2001</td>\n",
       "      <td>4</td>\n",
       "      <td>6.6</td>\n",
       "    </tr>\n",
       "    <tr>\n",
       "      <th>4</th>\n",
       "      <td>2001</td>\n",
       "      <td>5</td>\n",
       "      <td>6.9</td>\n",
       "    </tr>\n",
       "    <tr>\n",
       "      <th>...</th>\n",
       "      <td>...</td>\n",
       "      <td>...</td>\n",
       "      <td>...</td>\n",
       "    </tr>\n",
       "    <tr>\n",
       "      <th>264</th>\n",
       "      <td>2023</td>\n",
       "      <td>1</td>\n",
       "      <td>16.6</td>\n",
       "    </tr>\n",
       "    <tr>\n",
       "      <th>265</th>\n",
       "      <td>2023</td>\n",
       "      <td>2</td>\n",
       "      <td>18.4</td>\n",
       "    </tr>\n",
       "    <tr>\n",
       "      <th>266</th>\n",
       "      <td>2023</td>\n",
       "      <td>3</td>\n",
       "      <td>16.1</td>\n",
       "    </tr>\n",
       "    <tr>\n",
       "      <th>267</th>\n",
       "      <td>2023</td>\n",
       "      <td>4</td>\n",
       "      <td>14.7</td>\n",
       "    </tr>\n",
       "    <tr>\n",
       "      <th>268</th>\n",
       "      <td>2023</td>\n",
       "      <td>5</td>\n",
       "      <td>NaN</td>\n",
       "    </tr>\n",
       "  </tbody>\n",
       "</table>\n",
       "<p>269 rows × 3 columns</p>\n",
       "</div>"
      ],
      "text/plain": [
       "     Year  Month  Inflation\n",
       "0    2001      1        7.4\n",
       "1    2001      2        6.6\n",
       "2    2001      3        6.2\n",
       "3    2001      4        6.6\n",
       "4    2001      5        6.9\n",
       "..    ...    ...        ...\n",
       "264  2023      1       16.6\n",
       "265  2023      2       18.4\n",
       "266  2023      3       16.1\n",
       "267  2023      4       14.7\n",
       "268  2023      5        NaN\n",
       "\n",
       "[269 rows x 3 columns]"
      ]
     },
     "execution_count": 15,
     "metadata": {},
     "output_type": "execute_result"
    }
   ],
   "source": [
    "# loading data\n",
    "data = pd.read_excel('okdata2.xlsx')\n",
    "data"
   ]
  },
  {
   "cell_type": "code",
   "execution_count": 16,
   "id": "7cf89c5f",
   "metadata": {},
   "outputs": [],
   "source": [
    "# adding new column\n",
    "from pandas.tseries.offsets import MonthEnd\n",
    "data['Date'] = pd.to_datetime(data[['Year', 'Month']].assign(DAY=1)) + MonthEnd(1)"
   ]
  },
  {
   "cell_type": "code",
   "execution_count": 17,
   "id": "81464862",
   "metadata": {},
   "outputs": [
    {
     "data": {
      "text/html": [
       "<div>\n",
       "<style scoped>\n",
       "    .dataframe tbody tr th:only-of-type {\n",
       "        vertical-align: middle;\n",
       "    }\n",
       "\n",
       "    .dataframe tbody tr th {\n",
       "        vertical-align: top;\n",
       "    }\n",
       "\n",
       "    .dataframe thead th {\n",
       "        text-align: right;\n",
       "    }\n",
       "</style>\n",
       "<table border=\"1\" class=\"dataframe\">\n",
       "  <thead>\n",
       "    <tr style=\"text-align: right;\">\n",
       "      <th></th>\n",
       "      <th>Year</th>\n",
       "      <th>Month</th>\n",
       "      <th>Inflation</th>\n",
       "      <th>Date</th>\n",
       "    </tr>\n",
       "  </thead>\n",
       "  <tbody>\n",
       "    <tr>\n",
       "      <th>0</th>\n",
       "      <td>2001</td>\n",
       "      <td>1</td>\n",
       "      <td>7.4</td>\n",
       "      <td>2001-01-31</td>\n",
       "    </tr>\n",
       "    <tr>\n",
       "      <th>1</th>\n",
       "      <td>2001</td>\n",
       "      <td>2</td>\n",
       "      <td>6.6</td>\n",
       "      <td>2001-02-28</td>\n",
       "    </tr>\n",
       "    <tr>\n",
       "      <th>2</th>\n",
       "      <td>2001</td>\n",
       "      <td>3</td>\n",
       "      <td>6.2</td>\n",
       "      <td>2001-03-31</td>\n",
       "    </tr>\n",
       "    <tr>\n",
       "      <th>3</th>\n",
       "      <td>2001</td>\n",
       "      <td>4</td>\n",
       "      <td>6.6</td>\n",
       "      <td>2001-04-30</td>\n",
       "    </tr>\n",
       "    <tr>\n",
       "      <th>4</th>\n",
       "      <td>2001</td>\n",
       "      <td>5</td>\n",
       "      <td>6.9</td>\n",
       "      <td>2001-05-31</td>\n",
       "    </tr>\n",
       "    <tr>\n",
       "      <th>...</th>\n",
       "      <td>...</td>\n",
       "      <td>...</td>\n",
       "      <td>...</td>\n",
       "      <td>...</td>\n",
       "    </tr>\n",
       "    <tr>\n",
       "      <th>264</th>\n",
       "      <td>2023</td>\n",
       "      <td>1</td>\n",
       "      <td>16.6</td>\n",
       "      <td>2023-01-31</td>\n",
       "    </tr>\n",
       "    <tr>\n",
       "      <th>265</th>\n",
       "      <td>2023</td>\n",
       "      <td>2</td>\n",
       "      <td>18.4</td>\n",
       "      <td>2023-02-28</td>\n",
       "    </tr>\n",
       "    <tr>\n",
       "      <th>266</th>\n",
       "      <td>2023</td>\n",
       "      <td>3</td>\n",
       "      <td>16.1</td>\n",
       "      <td>2023-03-31</td>\n",
       "    </tr>\n",
       "    <tr>\n",
       "      <th>267</th>\n",
       "      <td>2023</td>\n",
       "      <td>4</td>\n",
       "      <td>14.7</td>\n",
       "      <td>2023-04-30</td>\n",
       "    </tr>\n",
       "    <tr>\n",
       "      <th>268</th>\n",
       "      <td>2023</td>\n",
       "      <td>5</td>\n",
       "      <td>NaN</td>\n",
       "      <td>2023-05-31</td>\n",
       "    </tr>\n",
       "  </tbody>\n",
       "</table>\n",
       "<p>269 rows × 4 columns</p>\n",
       "</div>"
      ],
      "text/plain": [
       "     Year  Month  Inflation       Date\n",
       "0    2001      1        7.4 2001-01-31\n",
       "1    2001      2        6.6 2001-02-28\n",
       "2    2001      3        6.2 2001-03-31\n",
       "3    2001      4        6.6 2001-04-30\n",
       "4    2001      5        6.9 2001-05-31\n",
       "..    ...    ...        ...        ...\n",
       "264  2023      1       16.6 2023-01-31\n",
       "265  2023      2       18.4 2023-02-28\n",
       "266  2023      3       16.1 2023-03-31\n",
       "267  2023      4       14.7 2023-04-30\n",
       "268  2023      5        NaN 2023-05-31\n",
       "\n",
       "[269 rows x 4 columns]"
      ]
     },
     "execution_count": 17,
     "metadata": {},
     "output_type": "execute_result"
    }
   ],
   "source": [
    "# ordering ascending column \"Date\" \n",
    "data = data.sort_values(by=['Date'])\n",
    "data"
   ]
  },
  {
   "cell_type": "code",
   "execution_count": 24,
   "id": "b8e1cb78",
   "metadata": {},
   "outputs": [],
   "source": [
    "# selecting data for modeling\n",
    "df = data[['Date', 'Inflation']]"
   ]
  },
  {
   "cell_type": "code",
   "execution_count": 25,
   "id": "cd7f5109",
   "metadata": {},
   "outputs": [],
   "source": [
    "# seting \"Date\" column as index\n",
    "df.set_index('Date', inplace=True)"
   ]
  },
  {
   "cell_type": "code",
   "execution_count": 26,
   "id": "7f3f9b7c",
   "metadata": {},
   "outputs": [
    {
     "name": "stderr",
     "output_type": "stream",
     "text": [
      "C:\\Users\\jchmi\\AppData\\Local\\Temp\\ipykernel_17948\\142223995.py:2: SettingWithCopyWarning: \n",
      "A value is trying to be set on a copy of a slice from a DataFrame\n",
      "\n",
      "See the caveats in the documentation: https://pandas.pydata.org/pandas-docs/stable/user_guide/indexing.html#returning-a-view-versus-a-copy\n",
      "  df.dropna(subset=['Inflation'], inplace=True)\n"
     ]
    },
    {
     "data": {
      "text/html": [
       "<div>\n",
       "<style scoped>\n",
       "    .dataframe tbody tr th:only-of-type {\n",
       "        vertical-align: middle;\n",
       "    }\n",
       "\n",
       "    .dataframe tbody tr th {\n",
       "        vertical-align: top;\n",
       "    }\n",
       "\n",
       "    .dataframe thead th {\n",
       "        text-align: right;\n",
       "    }\n",
       "</style>\n",
       "<table border=\"1\" class=\"dataframe\">\n",
       "  <thead>\n",
       "    <tr style=\"text-align: right;\">\n",
       "      <th></th>\n",
       "      <th>Inflation</th>\n",
       "    </tr>\n",
       "    <tr>\n",
       "      <th>Date</th>\n",
       "      <th></th>\n",
       "    </tr>\n",
       "  </thead>\n",
       "  <tbody>\n",
       "    <tr>\n",
       "      <th>2001-01-31</th>\n",
       "      <td>7.4</td>\n",
       "    </tr>\n",
       "    <tr>\n",
       "      <th>2001-02-28</th>\n",
       "      <td>6.6</td>\n",
       "    </tr>\n",
       "    <tr>\n",
       "      <th>2001-03-31</th>\n",
       "      <td>6.2</td>\n",
       "    </tr>\n",
       "    <tr>\n",
       "      <th>2001-04-30</th>\n",
       "      <td>6.6</td>\n",
       "    </tr>\n",
       "    <tr>\n",
       "      <th>2001-05-31</th>\n",
       "      <td>6.9</td>\n",
       "    </tr>\n",
       "    <tr>\n",
       "      <th>...</th>\n",
       "      <td>...</td>\n",
       "    </tr>\n",
       "    <tr>\n",
       "      <th>2022-12-31</th>\n",
       "      <td>16.6</td>\n",
       "    </tr>\n",
       "    <tr>\n",
       "      <th>2023-01-31</th>\n",
       "      <td>16.6</td>\n",
       "    </tr>\n",
       "    <tr>\n",
       "      <th>2023-02-28</th>\n",
       "      <td>18.4</td>\n",
       "    </tr>\n",
       "    <tr>\n",
       "      <th>2023-03-31</th>\n",
       "      <td>16.1</td>\n",
       "    </tr>\n",
       "    <tr>\n",
       "      <th>2023-04-30</th>\n",
       "      <td>14.7</td>\n",
       "    </tr>\n",
       "  </tbody>\n",
       "</table>\n",
       "<p>268 rows × 1 columns</p>\n",
       "</div>"
      ],
      "text/plain": [
       "            Inflation\n",
       "Date                 \n",
       "2001-01-31        7.4\n",
       "2001-02-28        6.6\n",
       "2001-03-31        6.2\n",
       "2001-04-30        6.6\n",
       "2001-05-31        6.9\n",
       "...               ...\n",
       "2022-12-31       16.6\n",
       "2023-01-31       16.6\n",
       "2023-02-28       18.4\n",
       "2023-03-31       16.1\n",
       "2023-04-30       14.7\n",
       "\n",
       "[268 rows x 1 columns]"
      ]
     },
     "execution_count": 26,
     "metadata": {},
     "output_type": "execute_result"
    }
   ],
   "source": [
    "# discarding empty rows\n",
    "df.dropna(subset=['Inflation'], inplace=True)\n",
    "df"
   ]
  },
  {
   "cell_type": "code",
   "execution_count": null,
   "id": "82e45b88",
   "metadata": {},
   "outputs": [],
   "source": [
    "# Od tego miejsca ctrl C jak leci"
   ]
  },
  {
   "cell_type": "code",
   "execution_count": 28,
   "id": "f2ffaa21",
   "metadata": {},
   "outputs": [
    {
     "name": "stdout",
     "output_type": "stream",
     "text": [
      "1. ADF:  -1.6338569545017785\n",
      "2. P-value:  0.46547248157920273\n",
      "3. Num of Lags:  13\n",
      "4. Num of Observations:  254\n",
      "5. Critial Values:\n",
      "\t 1% :  -3.456360306409983\n",
      "\t 5% :  -2.8729872043802356\n",
      "\t 10% :  -2.572870232500465\n",
      "\n",
      "Weak evidence against null hypothesis, time series has a unit root, indicating it is non-stationary.\n"
     ]
    }
   ],
   "source": [
    "# check if inflation series is stationary\n",
    "from statsmodels.tsa.stattools import adfuller\n",
    "\n",
    "# ADF test\n",
    "def adf_test(series):\n",
    "    result = adfuller(series, autolag='AIC')\n",
    "    print('1. ADF: ', result[0])\n",
    "    print('2. P-value: ', result[1])\n",
    "    print('3. Num of Lags: ', result[2])\n",
    "    print('4. Num of Observations: ', result[3])\n",
    "    print('5. Critial Values:')\n",
    "    for key, value in result[4].items():\n",
    "        print('\\t', key, ': ', value)\n",
    "        \n",
    "    if result[1] <= 0.05:\n",
    "        print('\\nStrong evidence against the null hypothesis (H0), reject the null hypothesis. Data has no unit root and is stationary.')\n",
    "    else:\n",
    "        print('\\nWeak evidence against null hypothesis, time series has a unit root, indicating it is non-stationary.')\n",
    "\n",
    "# run function\n",
    "adf_test(df['Inflation'])"
   ]
  },
  {
   "cell_type": "code",
   "execution_count": 30,
   "id": "1910c47b",
   "metadata": {},
   "outputs": [
    {
     "name": "stdout",
     "output_type": "stream",
     "text": [
      "1\n",
      "2\n",
      "1\n"
     ]
    }
   ],
   "source": [
    "# finding differencing value\n",
    "from pmdarima.arima.utils import ndiffs\n",
    "print(ndiffs(df['Inflation'], test='adf'))\n",
    "print(ndiffs(df['Inflation'], test='kpss'))\n",
    "print(ndiffs(df['Inflation'], test='pp'))"
   ]
  },
  {
   "cell_type": "code",
   "execution_count": 32,
   "id": "94ea03b3",
   "metadata": {},
   "outputs": [
    {
     "name": "stdout",
     "output_type": "stream",
     "text": [
      "Performing stepwise search to minimize aic\n",
      " ARIMA(2,2,2)(0,0,0)[0]             : AIC=371.871, Time=0.77 sec\n",
      " ARIMA(0,2,0)(0,0,0)[0]             : AIC=469.264, Time=0.06 sec\n",
      " ARIMA(1,2,0)(0,0,0)[0]             : AIC=429.725, Time=0.10 sec\n",
      " ARIMA(0,2,1)(0,0,0)[0]             : AIC=378.736, Time=0.13 sec\n",
      " ARIMA(1,2,2)(0,0,0)[0]             : AIC=inf, Time=0.52 sec\n",
      " ARIMA(2,2,1)(0,0,0)[0]             : AIC=372.683, Time=0.42 sec\n",
      " ARIMA(3,2,2)(0,0,0)[0]             : AIC=373.580, Time=0.67 sec\n",
      " ARIMA(2,2,3)(0,0,0)[0]             : AIC=inf, Time=1.13 sec\n",
      " ARIMA(1,2,1)(0,0,0)[0]             : AIC=370.699, Time=0.28 sec\n",
      " ARIMA(0,2,2)(0,0,0)[0]             : AIC=371.480, Time=0.24 sec\n",
      " ARIMA(2,2,0)(0,0,0)[0]             : AIC=406.732, Time=0.14 sec\n",
      " ARIMA(1,2,1)(0,0,0)[0] intercept   : AIC=inf, Time=0.84 sec\n",
      "\n",
      "Best model:  ARIMA(1,2,1)(0,0,0)[0]          \n",
      "Total fit time: 5.316 seconds\n"
     ]
    },
    {
     "data": {
      "text/html": [
       "<table class=\"simpletable\">\n",
       "<caption>SARIMAX Results</caption>\n",
       "<tr>\n",
       "  <th>Dep. Variable:</th>           <td>y</td>        <th>  No. Observations:  </th>    <td>268</td>  \n",
       "</tr>\n",
       "<tr>\n",
       "  <th>Model:</th>           <td>SARIMAX(1, 2, 1)</td> <th>  Log Likelihood     </th> <td>-182.350</td>\n",
       "</tr>\n",
       "<tr>\n",
       "  <th>Date:</th>            <td>Tue, 30 May 2023</td> <th>  AIC                </th>  <td>370.699</td>\n",
       "</tr>\n",
       "<tr>\n",
       "  <th>Time:</th>                <td>06:49:45</td>     <th>  BIC                </th>  <td>381.450</td>\n",
       "</tr>\n",
       "<tr>\n",
       "  <th>Sample:</th>             <td>01-31-2001</td>    <th>  HQIC               </th>  <td>375.018</td>\n",
       "</tr>\n",
       "<tr>\n",
       "  <th></th>                   <td>- 04-30-2023</td>   <th>                     </th>     <td> </td>   \n",
       "</tr>\n",
       "<tr>\n",
       "  <th>Covariance Type:</th>        <td>opg</td>       <th>                     </th>     <td> </td>   \n",
       "</tr>\n",
       "</table>\n",
       "<table class=\"simpletable\">\n",
       "<tr>\n",
       "     <td></td>       <th>coef</th>     <th>std err</th>      <th>z</th>      <th>P>|z|</th>  <th>[0.025</th>    <th>0.975]</th>  \n",
       "</tr>\n",
       "<tr>\n",
       "  <th>ar.L1</th>  <td>    0.2912</td> <td>    0.049</td> <td>    5.912</td> <td> 0.000</td> <td>    0.195</td> <td>    0.388</td>\n",
       "</tr>\n",
       "<tr>\n",
       "  <th>ma.L1</th>  <td>   -0.9717</td> <td>    0.010</td> <td>  -97.619</td> <td> 0.000</td> <td>   -0.991</td> <td>   -0.952</td>\n",
       "</tr>\n",
       "<tr>\n",
       "  <th>sigma2</th> <td>    0.2287</td> <td>    0.012</td> <td>   19.225</td> <td> 0.000</td> <td>    0.205</td> <td>    0.252</td>\n",
       "</tr>\n",
       "</table>\n",
       "<table class=\"simpletable\">\n",
       "<tr>\n",
       "  <th>Ljung-Box (L1) (Q):</th>     <td>0.03</td> <th>  Jarque-Bera (JB):  </th> <td>1004.46</td>\n",
       "</tr>\n",
       "<tr>\n",
       "  <th>Prob(Q):</th>                <td>0.87</td> <th>  Prob(JB):          </th>  <td>0.00</td>  \n",
       "</tr>\n",
       "<tr>\n",
       "  <th>Heteroskedasticity (H):</th> <td>2.95</td> <th>  Skew:              </th>  <td>-0.42</td> \n",
       "</tr>\n",
       "<tr>\n",
       "  <th>Prob(H) (two-sided):</th>    <td>0.00</td> <th>  Kurtosis:          </th>  <td>12.48</td> \n",
       "</tr>\n",
       "</table><br/><br/>Warnings:<br/>[1] Covariance matrix calculated using the outer product of gradients (complex-step)."
      ],
      "text/plain": [
       "<class 'statsmodels.iolib.summary.Summary'>\n",
       "\"\"\"\n",
       "                               SARIMAX Results                                \n",
       "==============================================================================\n",
       "Dep. Variable:                      y   No. Observations:                  268\n",
       "Model:               SARIMAX(1, 2, 1)   Log Likelihood                -182.350\n",
       "Date:                Tue, 30 May 2023   AIC                            370.699\n",
       "Time:                        06:49:45   BIC                            381.450\n",
       "Sample:                    01-31-2001   HQIC                           375.018\n",
       "                         - 04-30-2023                                         \n",
       "Covariance Type:                  opg                                         \n",
       "==============================================================================\n",
       "                 coef    std err          z      P>|z|      [0.025      0.975]\n",
       "------------------------------------------------------------------------------\n",
       "ar.L1          0.2912      0.049      5.912      0.000       0.195       0.388\n",
       "ma.L1         -0.9717      0.010    -97.619      0.000      -0.991      -0.952\n",
       "sigma2         0.2287      0.012     19.225      0.000       0.205       0.252\n",
       "===================================================================================\n",
       "Ljung-Box (L1) (Q):                   0.03   Jarque-Bera (JB):              1004.46\n",
       "Prob(Q):                              0.87   Prob(JB):                         0.00\n",
       "Heteroskedasticity (H):               2.95   Skew:                            -0.42\n",
       "Prob(H) (two-sided):                  0.00   Kurtosis:                        12.48\n",
       "===================================================================================\n",
       "\n",
       "Warnings:\n",
       "[1] Covariance matrix calculated using the outer product of gradients (complex-step).\n",
       "\"\"\""
      ]
     },
     "execution_count": 32,
     "metadata": {},
     "output_type": "execute_result"
    }
   ],
   "source": [
    "# auto ARIMA function\n",
    "from pmdarima import auto_arima\n",
    "stepwise_fit = auto_arima(df['Inflation'], trace=True, suppress_warnings=True)\n",
    "stepwise_fit.summary()"
   ]
  },
  {
   "cell_type": "code",
   "execution_count": 33,
   "id": "bb82f63c",
   "metadata": {},
   "outputs": [
    {
     "name": "stderr",
     "output_type": "stream",
     "text": [
      "C:\\Users\\jchmi\\anaconda3\\lib\\site-packages\\statsmodels\\tsa\\base\\tsa_model.py:471: ValueWarning: No frequency information was provided, so inferred frequency M will be used.\n",
      "  self._init_dates(dates, freq)\n"
     ]
    },
    {
     "data": {
      "text/html": [
       "<table class=\"simpletable\">\n",
       "<caption>SARIMAX Results</caption>\n",
       "<tr>\n",
       "  <th>Dep. Variable:</th>       <td>Inflation</td>    <th>  No. Observations:  </th>    <td>268</td>  \n",
       "</tr>\n",
       "<tr>\n",
       "  <th>Model:</th>            <td>ARIMA(2, 0, 1)</td>  <th>  Log Likelihood     </th> <td>-180.010</td>\n",
       "</tr>\n",
       "<tr>\n",
       "  <th>Date:</th>            <td>Tue, 30 May 2023</td> <th>  AIC                </th>  <td>370.020</td>\n",
       "</tr>\n",
       "<tr>\n",
       "  <th>Time:</th>                <td>06:50:13</td>     <th>  BIC                </th>  <td>387.975</td>\n",
       "</tr>\n",
       "<tr>\n",
       "  <th>Sample:</th>             <td>01-31-2001</td>    <th>  HQIC               </th>  <td>377.231</td>\n",
       "</tr>\n",
       "<tr>\n",
       "  <th></th>                   <td>- 04-30-2023</td>   <th>                     </th>     <td> </td>   \n",
       "</tr>\n",
       "<tr>\n",
       "  <th>Covariance Type:</th>        <td>opg</td>       <th>                     </th>     <td> </td>   \n",
       "</tr>\n",
       "</table>\n",
       "<table class=\"simpletable\">\n",
       "<tr>\n",
       "     <td></td>       <th>coef</th>     <th>std err</th>      <th>z</th>      <th>P>|z|</th>  <th>[0.025</th>    <th>0.975]</th>  \n",
       "</tr>\n",
       "<tr>\n",
       "  <th>const</th>  <td>    3.3317</td> <td>    1.194</td> <td>    2.790</td> <td> 0.005</td> <td>    0.991</td> <td>    5.673</td>\n",
       "</tr>\n",
       "<tr>\n",
       "  <th>ar.L1</th>  <td>    1.9256</td> <td>    0.055</td> <td>   35.129</td> <td> 0.000</td> <td>    1.818</td> <td>    2.033</td>\n",
       "</tr>\n",
       "<tr>\n",
       "  <th>ar.L2</th>  <td>   -0.9331</td> <td>    0.055</td> <td>  -16.987</td> <td> 0.000</td> <td>   -1.041</td> <td>   -0.825</td>\n",
       "</tr>\n",
       "<tr>\n",
       "  <th>ma.L1</th>  <td>   -0.7459</td> <td>    0.082</td> <td>   -9.123</td> <td> 0.000</td> <td>   -0.906</td> <td>   -0.586</td>\n",
       "</tr>\n",
       "<tr>\n",
       "  <th>sigma2</th> <td>    0.2204</td> <td>    0.013</td> <td>   17.314</td> <td> 0.000</td> <td>    0.195</td> <td>    0.245</td>\n",
       "</tr>\n",
       "</table>\n",
       "<table class=\"simpletable\">\n",
       "<tr>\n",
       "  <th>Ljung-Box (L1) (Q):</th>     <td>1.48</td> <th>  Jarque-Bera (JB):  </th> <td>311.79</td>\n",
       "</tr>\n",
       "<tr>\n",
       "  <th>Prob(Q):</th>                <td>0.22</td> <th>  Prob(JB):          </th>  <td>0.00</td> \n",
       "</tr>\n",
       "<tr>\n",
       "  <th>Heteroskedasticity (H):</th> <td>2.77</td> <th>  Skew:              </th>  <td>0.37</td> \n",
       "</tr>\n",
       "<tr>\n",
       "  <th>Prob(H) (two-sided):</th>    <td>0.00</td> <th>  Kurtosis:          </th>  <td>8.23</td> \n",
       "</tr>\n",
       "</table><br/><br/>Warnings:<br/>[1] Covariance matrix calculated using the outer product of gradients (complex-step)."
      ],
      "text/plain": [
       "<class 'statsmodels.iolib.summary.Summary'>\n",
       "\"\"\"\n",
       "                               SARIMAX Results                                \n",
       "==============================================================================\n",
       "Dep. Variable:              Inflation   No. Observations:                  268\n",
       "Model:                 ARIMA(2, 0, 1)   Log Likelihood                -180.010\n",
       "Date:                Tue, 30 May 2023   AIC                            370.020\n",
       "Time:                        06:50:13   BIC                            387.975\n",
       "Sample:                    01-31-2001   HQIC                           377.231\n",
       "                         - 04-30-2023                                         \n",
       "Covariance Type:                  opg                                         \n",
       "==============================================================================\n",
       "                 coef    std err          z      P>|z|      [0.025      0.975]\n",
       "------------------------------------------------------------------------------\n",
       "const          3.3317      1.194      2.790      0.005       0.991       5.673\n",
       "ar.L1          1.9256      0.055     35.129      0.000       1.818       2.033\n",
       "ar.L2         -0.9331      0.055    -16.987      0.000      -1.041      -0.825\n",
       "ma.L1         -0.7459      0.082     -9.123      0.000      -0.906      -0.586\n",
       "sigma2         0.2204      0.013     17.314      0.000       0.195       0.245\n",
       "===================================================================================\n",
       "Ljung-Box (L1) (Q):                   1.48   Jarque-Bera (JB):               311.79\n",
       "Prob(Q):                              0.22   Prob(JB):                         0.00\n",
       "Heteroskedasticity (H):               2.77   Skew:                             0.37\n",
       "Prob(H) (two-sided):                  0.00   Kurtosis:                         8.23\n",
       "===================================================================================\n",
       "\n",
       "Warnings:\n",
       "[1] Covariance matrix calculated using the outer product of gradients (complex-step).\n",
       "\"\"\""
      ]
     },
     "execution_count": 33,
     "metadata": {},
     "output_type": "execute_result"
    }
   ],
   "source": [
    "# p=2, d=0, q=1\n",
    "from statsmodels.tsa.arima.model import ARIMA\n",
    "\n",
    "# fitting the model\n",
    "model = ARIMA(df['Inflation'], order=(2,0,1), freq='M')\n",
    "model_fit = model.fit()\n",
    "model_fit.summary()"
   ]
  },
  {
   "cell_type": "code",
   "execution_count": 34,
   "id": "eb2c474c",
   "metadata": {},
   "outputs": [],
   "source": [
    "# predict values\n",
    "pred = model_fit.predict(start=0, end=len(df) - 1, typ='levels', dynamic=False)"
   ]
  },
  {
   "cell_type": "code",
   "execution_count": 35,
   "id": "9115b884",
   "metadata": {},
   "outputs": [
    {
     "data": {
      "text/plain": [
       "2022-12-31    17.519751\n",
       "2023-01-31    16.346135\n",
       "2023-02-28    16.310558\n",
       "2023-03-31    18.407467\n",
       "2023-04-30    15.578614\n",
       "Freq: M, Name: predicted_mean, dtype: float64"
      ]
     },
     "execution_count": 35,
     "metadata": {},
     "output_type": "execute_result"
    }
   ],
   "source": [
    "# display last rows\n",
    "pred.tail()"
   ]
  },
  {
   "cell_type": "code",
   "execution_count": 37,
   "id": "dfa6fff9",
   "metadata": {},
   "outputs": [
    {
     "data": {
      "text/plain": [
       "0.5310259998130197"
      ]
     },
     "execution_count": 37,
     "metadata": {},
     "output_type": "execute_result"
    }
   ],
   "source": [
    "# root mean squared error\n",
    "from sklearn.metrics import mean_squared_error\n",
    "rmse = mean_squared_error(pred, df['Inflation'], squared=False)\n",
    "rmse"
   ]
  },
  {
   "cell_type": "code",
   "execution_count": 38,
   "id": "7ca1cedb",
   "metadata": {},
   "outputs": [
    {
     "data": {
      "text/plain": [
       "0.34787320631204216"
      ]
     },
     "execution_count": 38,
     "metadata": {},
     "output_type": "execute_result"
    }
   ],
   "source": [
    "# mean absolute error\n",
    "from sklearn.metrics import mean_absolute_error\n",
    "mae = mean_absolute_error(pred, df['Inflation'])\n",
    "mae"
   ]
  },
  {
   "cell_type": "code",
   "execution_count": 40,
   "id": "b8bdb4b5",
   "metadata": {},
   "outputs": [
    {
     "data": {
      "text/plain": [
       "inf"
      ]
     },
     "execution_count": 40,
     "metadata": {},
     "output_type": "execute_result"
    }
   ],
   "source": [
    "# mean absolute percentage error\n",
    "mape = np.mean(np.abs(df['Inflation'] - pred) / df['Inflation']) * 100\n",
    "mape"
   ]
  },
  {
   "cell_type": "code",
   "execution_count": 41,
   "id": "de881f74",
   "metadata": {},
   "outputs": [
    {
     "data": {
      "text/plain": [
       "0.9887431785666918"
      ]
     },
     "execution_count": 41,
     "metadata": {},
     "output_type": "execute_result"
    }
   ],
   "source": [
    "# correlation\n",
    "corr = np.corrcoef(pred, df['Inflation'])[0,1]\n",
    "corr"
   ]
  },
  {
   "cell_type": "code",
   "execution_count": 42,
   "id": "14dc0b53",
   "metadata": {},
   "outputs": [],
   "source": [
    "# predict values\n",
    "forecast = model_fit.predict(start=0, end=len(df) + 4, typ='levels', dynamic=False)"
   ]
  },
  {
   "cell_type": "code",
   "execution_count": 43,
   "id": "3fab7469",
   "metadata": {},
   "outputs": [
    {
     "data": {
      "text/plain": [
       "2023-05-31    13.963218\n",
       "2023-06-30    13.195508\n",
       "2023-07-31    12.404729\n",
       "2023-08-31    11.598389\n",
       "2023-09-30    10.783611\n",
       "Freq: M, Name: predicted_mean, dtype: float64"
      ]
     },
     "execution_count": 43,
     "metadata": {},
     "output_type": "execute_result"
    }
   ],
   "source": [
    "# display forecasted values\n",
    "forecast.tail(5)"
   ]
  }
 ],
 "metadata": {
  "kernelspec": {
   "display_name": "Python 3 (ipykernel)",
   "language": "python",
   "name": "python3"
  },
  "language_info": {
   "codemirror_mode": {
    "name": "ipython",
    "version": 3
   },
   "file_extension": ".py",
   "mimetype": "text/x-python",
   "name": "python",
   "nbconvert_exporter": "python",
   "pygments_lexer": "ipython3",
   "version": "3.9.13"
  }
 },
 "nbformat": 4,
 "nbformat_minor": 5
}
