{
 "cells": [
  {
   "cell_type": "markdown",
   "id": "dc13d21e-8a31-4471-b7cc-938fea5e6e0f",
   "metadata": {},
   "source": [
    "## Assignment 2 - Predicting inflation in Poland in May 2023\n",
    "\n",
    "Team nickname: Pomeranians\n",
    "\n",
    "Team members' names:\n",
    "Justyna Chmielewska 124736,\n",
    "Wiktoria Sikora 123859\n",
    "\n",
    "**Dataset:** https://nbp.pl/statystyka-i-sprawozdawczosc/inflacja-bazowa/"
   ]
  },
  {
   "cell_type": "markdown",
   "id": "40eeb6b5-0b2a-41c2-9bc4-0380daf76c58",
   "metadata": {},
   "source": [
    "**Description of the model used:**\n",
    "Time Series Forecasting for Inflation Rate using **ARIMA Model**\n",
    "\n",
    "*Introduction:*\n",
    "This project focuses on predicting the inflation rate using the ARIMA (Autoregressive Integrated Moving Average) model. By understanding key concepts and steps in time series forecasting, we can effectively utilize ARIMA for accurate predictions.\n",
    "\n",
    "- *Time Series Forecasting:*\n",
    "Involves predicting future values based on the historical data of a variable recorded in sequential order over time. In the context of this project, we are interested in predicting the inflation rate, which represents changes in the general price level of goods and services over time.\n",
    "\n",
    "- *ARIMA Model Overview:*\n",
    "The ARIMA model combines three components: Autoregressive (AR), Integrated (I), and Moving Average (MA).\n",
    "\n",
    "   The Autoregressive (AR) component captures the relationship between the current value and its past values. It considers the notion that the current inflation rate is influenced by its own historical values.\n",
    "\n",
    "   The Integrated (I) component focuses on transforming the series into a stationary form by differencing consecutive observations. This step removes trends and ensures reliable modeling and forecasting.\n",
    "\n",
    "   The Moving Average (MA) component considers the dependency between the current value and the residual errors from previous predictions. It helps capture random shocks or noise in the data\n",
    "\n",
    "- *Importance of Stationarity:*\n",
    "Stationarity ensures reliable modeling by removing non-stationary patterns like trends and seasonality.\n",
    "\n",
    "- *ARIMA Model Selection:*\n",
    "Selecting optimal ARIMA parameters (p, d, q) through analysis of autocorrelation and partial autocorrelation functions.\n",
    "\n",
    "- *Model Training and Validation:*\n",
    "Training the ARIMA model using historical data and validating its performance.\n",
    "\n",
    "- *Forecasting and Evaluation:*\n",
    "Using the trained ARIMA model to predict future inflation rates.\n",
    "\n",
    "**ARIMA** is a valuable tool for predicting inflation rates. By following the steps of ARIMA modeling and considering stationarity, accurate forecasts can be achieved."
   ]
  },
  {
   "cell_type": "code",
   "execution_count": 1,
   "id": "f224a809-1621-4495-b0ea-22fb5d125a92",
   "metadata": {},
   "outputs": [],
   "source": [
    "# loading libraries\n",
    "import pandas as pd\n",
    "import matplotlib.pyplot as plt\n",
    "import numpy as np"
   ]
  },
  {
   "cell_type": "code",
   "execution_count": 2,
   "id": "83c2fa24",
   "metadata": {},
   "outputs": [
    {
     "data": {
      "text/html": [
       "<div>\n",
       "<style scoped>\n",
       "    .dataframe tbody tr th:only-of-type {\n",
       "        vertical-align: middle;\n",
       "    }\n",
       "\n",
       "    .dataframe tbody tr th {\n",
       "        vertical-align: top;\n",
       "    }\n",
       "\n",
       "    .dataframe thead th {\n",
       "        text-align: right;\n",
       "    }\n",
       "</style>\n",
       "<table border=\"1\" class=\"dataframe\">\n",
       "  <thead>\n",
       "    <tr style=\"text-align: right;\">\n",
       "      <th></th>\n",
       "      <th>Year</th>\n",
       "      <th>Month</th>\n",
       "      <th>Inflation</th>\n",
       "    </tr>\n",
       "  </thead>\n",
       "  <tbody>\n",
       "    <tr>\n",
       "      <th>0</th>\n",
       "      <td>2001</td>\n",
       "      <td>1</td>\n",
       "      <td>7.4</td>\n",
       "    </tr>\n",
       "    <tr>\n",
       "      <th>1</th>\n",
       "      <td>2001</td>\n",
       "      <td>2</td>\n",
       "      <td>6.6</td>\n",
       "    </tr>\n",
       "    <tr>\n",
       "      <th>2</th>\n",
       "      <td>2001</td>\n",
       "      <td>3</td>\n",
       "      <td>6.2</td>\n",
       "    </tr>\n",
       "    <tr>\n",
       "      <th>3</th>\n",
       "      <td>2001</td>\n",
       "      <td>4</td>\n",
       "      <td>6.6</td>\n",
       "    </tr>\n",
       "    <tr>\n",
       "      <th>4</th>\n",
       "      <td>2001</td>\n",
       "      <td>5</td>\n",
       "      <td>6.9</td>\n",
       "    </tr>\n",
       "    <tr>\n",
       "      <th>...</th>\n",
       "      <td>...</td>\n",
       "      <td>...</td>\n",
       "      <td>...</td>\n",
       "    </tr>\n",
       "    <tr>\n",
       "      <th>264</th>\n",
       "      <td>2023</td>\n",
       "      <td>1</td>\n",
       "      <td>16.6</td>\n",
       "    </tr>\n",
       "    <tr>\n",
       "      <th>265</th>\n",
       "      <td>2023</td>\n",
       "      <td>2</td>\n",
       "      <td>18.4</td>\n",
       "    </tr>\n",
       "    <tr>\n",
       "      <th>266</th>\n",
       "      <td>2023</td>\n",
       "      <td>3</td>\n",
       "      <td>16.1</td>\n",
       "    </tr>\n",
       "    <tr>\n",
       "      <th>267</th>\n",
       "      <td>2023</td>\n",
       "      <td>4</td>\n",
       "      <td>14.7</td>\n",
       "    </tr>\n",
       "    <tr>\n",
       "      <th>268</th>\n",
       "      <td>2023</td>\n",
       "      <td>5</td>\n",
       "      <td>NaN</td>\n",
       "    </tr>\n",
       "  </tbody>\n",
       "</table>\n",
       "<p>269 rows × 3 columns</p>\n",
       "</div>"
      ],
      "text/plain": [
       "     Year  Month  Inflation\n",
       "0    2001      1        7.4\n",
       "1    2001      2        6.6\n",
       "2    2001      3        6.2\n",
       "3    2001      4        6.6\n",
       "4    2001      5        6.9\n",
       "..    ...    ...        ...\n",
       "264  2023      1       16.6\n",
       "265  2023      2       18.4\n",
       "266  2023      3       16.1\n",
       "267  2023      4       14.7\n",
       "268  2023      5        NaN\n",
       "\n",
       "[269 rows x 3 columns]"
      ]
     },
     "execution_count": 2,
     "metadata": {},
     "output_type": "execute_result"
    }
   ],
   "source": [
    "# loading data\n",
    "data = pd.read_excel('inflation_rate_poland_2001-2023.xlsx')\n",
    "data"
   ]
  },
  {
   "cell_type": "code",
   "execution_count": 3,
   "id": "7cf89c5f",
   "metadata": {},
   "outputs": [],
   "source": [
    "# adding new column\n",
    "from pandas.tseries.offsets import MonthEnd\n",
    "data['Date'] = pd.to_datetime(data[['Year', 'Month']].assign(DAY=1)) + MonthEnd(1)"
   ]
  },
  {
   "cell_type": "code",
   "execution_count": 4,
   "id": "81464862",
   "metadata": {},
   "outputs": [
    {
     "data": {
      "text/html": [
       "<div>\n",
       "<style scoped>\n",
       "    .dataframe tbody tr th:only-of-type {\n",
       "        vertical-align: middle;\n",
       "    }\n",
       "\n",
       "    .dataframe tbody tr th {\n",
       "        vertical-align: top;\n",
       "    }\n",
       "\n",
       "    .dataframe thead th {\n",
       "        text-align: right;\n",
       "    }\n",
       "</style>\n",
       "<table border=\"1\" class=\"dataframe\">\n",
       "  <thead>\n",
       "    <tr style=\"text-align: right;\">\n",
       "      <th></th>\n",
       "      <th>Year</th>\n",
       "      <th>Month</th>\n",
       "      <th>Inflation</th>\n",
       "      <th>Date</th>\n",
       "    </tr>\n",
       "  </thead>\n",
       "  <tbody>\n",
       "    <tr>\n",
       "      <th>0</th>\n",
       "      <td>2001</td>\n",
       "      <td>1</td>\n",
       "      <td>7.4</td>\n",
       "      <td>2001-01-31</td>\n",
       "    </tr>\n",
       "    <tr>\n",
       "      <th>1</th>\n",
       "      <td>2001</td>\n",
       "      <td>2</td>\n",
       "      <td>6.6</td>\n",
       "      <td>2001-02-28</td>\n",
       "    </tr>\n",
       "    <tr>\n",
       "      <th>2</th>\n",
       "      <td>2001</td>\n",
       "      <td>3</td>\n",
       "      <td>6.2</td>\n",
       "      <td>2001-03-31</td>\n",
       "    </tr>\n",
       "    <tr>\n",
       "      <th>3</th>\n",
       "      <td>2001</td>\n",
       "      <td>4</td>\n",
       "      <td>6.6</td>\n",
       "      <td>2001-04-30</td>\n",
       "    </tr>\n",
       "    <tr>\n",
       "      <th>4</th>\n",
       "      <td>2001</td>\n",
       "      <td>5</td>\n",
       "      <td>6.9</td>\n",
       "      <td>2001-05-31</td>\n",
       "    </tr>\n",
       "    <tr>\n",
       "      <th>...</th>\n",
       "      <td>...</td>\n",
       "      <td>...</td>\n",
       "      <td>...</td>\n",
       "      <td>...</td>\n",
       "    </tr>\n",
       "    <tr>\n",
       "      <th>264</th>\n",
       "      <td>2023</td>\n",
       "      <td>1</td>\n",
       "      <td>16.6</td>\n",
       "      <td>2023-01-31</td>\n",
       "    </tr>\n",
       "    <tr>\n",
       "      <th>265</th>\n",
       "      <td>2023</td>\n",
       "      <td>2</td>\n",
       "      <td>18.4</td>\n",
       "      <td>2023-02-28</td>\n",
       "    </tr>\n",
       "    <tr>\n",
       "      <th>266</th>\n",
       "      <td>2023</td>\n",
       "      <td>3</td>\n",
       "      <td>16.1</td>\n",
       "      <td>2023-03-31</td>\n",
       "    </tr>\n",
       "    <tr>\n",
       "      <th>267</th>\n",
       "      <td>2023</td>\n",
       "      <td>4</td>\n",
       "      <td>14.7</td>\n",
       "      <td>2023-04-30</td>\n",
       "    </tr>\n",
       "    <tr>\n",
       "      <th>268</th>\n",
       "      <td>2023</td>\n",
       "      <td>5</td>\n",
       "      <td>NaN</td>\n",
       "      <td>2023-05-31</td>\n",
       "    </tr>\n",
       "  </tbody>\n",
       "</table>\n",
       "<p>269 rows × 4 columns</p>\n",
       "</div>"
      ],
      "text/plain": [
       "     Year  Month  Inflation       Date\n",
       "0    2001      1        7.4 2001-01-31\n",
       "1    2001      2        6.6 2001-02-28\n",
       "2    2001      3        6.2 2001-03-31\n",
       "3    2001      4        6.6 2001-04-30\n",
       "4    2001      5        6.9 2001-05-31\n",
       "..    ...    ...        ...        ...\n",
       "264  2023      1       16.6 2023-01-31\n",
       "265  2023      2       18.4 2023-02-28\n",
       "266  2023      3       16.1 2023-03-31\n",
       "267  2023      4       14.7 2023-04-30\n",
       "268  2023      5        NaN 2023-05-31\n",
       "\n",
       "[269 rows x 4 columns]"
      ]
     },
     "execution_count": 4,
     "metadata": {},
     "output_type": "execute_result"
    }
   ],
   "source": [
    "# ordering ascending column \"Date\" \n",
    "data = data.sort_values(by=['Date'])\n",
    "data"
   ]
  },
  {
   "cell_type": "code",
   "execution_count": 5,
   "id": "b8e1cb78",
   "metadata": {},
   "outputs": [],
   "source": [
    "# selecting data for modeling\n",
    "df = data[['Date', 'Inflation']]"
   ]
  },
  {
   "cell_type": "code",
   "execution_count": 6,
   "id": "cd7f5109",
   "metadata": {},
   "outputs": [],
   "source": [
    "# seting \"Date\" column as index\n",
    "df.set_index('Date', inplace=True)"
   ]
  },
  {
   "cell_type": "code",
   "execution_count": 7,
   "id": "7f3f9b7c",
   "metadata": {},
   "outputs": [
    {
     "name": "stderr",
     "output_type": "stream",
     "text": [
      "/var/folders/rc/qxgp3dcj71vgc5h3rdhtydk80000gn/T/ipykernel_99329/142223995.py:2: SettingWithCopyWarning: \n",
      "A value is trying to be set on a copy of a slice from a DataFrame\n",
      "\n",
      "See the caveats in the documentation: https://pandas.pydata.org/pandas-docs/stable/user_guide/indexing.html#returning-a-view-versus-a-copy\n",
      "  df.dropna(subset=['Inflation'], inplace=True)\n"
     ]
    },
    {
     "data": {
      "text/html": [
       "<div>\n",
       "<style scoped>\n",
       "    .dataframe tbody tr th:only-of-type {\n",
       "        vertical-align: middle;\n",
       "    }\n",
       "\n",
       "    .dataframe tbody tr th {\n",
       "        vertical-align: top;\n",
       "    }\n",
       "\n",
       "    .dataframe thead th {\n",
       "        text-align: right;\n",
       "    }\n",
       "</style>\n",
       "<table border=\"1\" class=\"dataframe\">\n",
       "  <thead>\n",
       "    <tr style=\"text-align: right;\">\n",
       "      <th></th>\n",
       "      <th>Inflation</th>\n",
       "    </tr>\n",
       "    <tr>\n",
       "      <th>Date</th>\n",
       "      <th></th>\n",
       "    </tr>\n",
       "  </thead>\n",
       "  <tbody>\n",
       "    <tr>\n",
       "      <th>2001-01-31</th>\n",
       "      <td>7.4</td>\n",
       "    </tr>\n",
       "    <tr>\n",
       "      <th>2001-02-28</th>\n",
       "      <td>6.6</td>\n",
       "    </tr>\n",
       "    <tr>\n",
       "      <th>2001-03-31</th>\n",
       "      <td>6.2</td>\n",
       "    </tr>\n",
       "    <tr>\n",
       "      <th>2001-04-30</th>\n",
       "      <td>6.6</td>\n",
       "    </tr>\n",
       "    <tr>\n",
       "      <th>2001-05-31</th>\n",
       "      <td>6.9</td>\n",
       "    </tr>\n",
       "    <tr>\n",
       "      <th>...</th>\n",
       "      <td>...</td>\n",
       "    </tr>\n",
       "    <tr>\n",
       "      <th>2022-12-31</th>\n",
       "      <td>16.6</td>\n",
       "    </tr>\n",
       "    <tr>\n",
       "      <th>2023-01-31</th>\n",
       "      <td>16.6</td>\n",
       "    </tr>\n",
       "    <tr>\n",
       "      <th>2023-02-28</th>\n",
       "      <td>18.4</td>\n",
       "    </tr>\n",
       "    <tr>\n",
       "      <th>2023-03-31</th>\n",
       "      <td>16.1</td>\n",
       "    </tr>\n",
       "    <tr>\n",
       "      <th>2023-04-30</th>\n",
       "      <td>14.7</td>\n",
       "    </tr>\n",
       "  </tbody>\n",
       "</table>\n",
       "<p>268 rows × 1 columns</p>\n",
       "</div>"
      ],
      "text/plain": [
       "            Inflation\n",
       "Date                 \n",
       "2001-01-31        7.4\n",
       "2001-02-28        6.6\n",
       "2001-03-31        6.2\n",
       "2001-04-30        6.6\n",
       "2001-05-31        6.9\n",
       "...               ...\n",
       "2022-12-31       16.6\n",
       "2023-01-31       16.6\n",
       "2023-02-28       18.4\n",
       "2023-03-31       16.1\n",
       "2023-04-30       14.7\n",
       "\n",
       "[268 rows x 1 columns]"
      ]
     },
     "execution_count": 7,
     "metadata": {},
     "output_type": "execute_result"
    }
   ],
   "source": [
    "# discarding empty rows\n",
    "df.dropna(subset=['Inflation'], inplace=True)\n",
    "df"
   ]
  },
  {
   "cell_type": "markdown",
   "id": "4e159daa-cf9a-4b7e-b2b0-fa6eafd3530d",
   "metadata": {},
   "source": [
    "**Stationarity:**\n",
    "Stationarity is a crucial concept in time series forecasting. A stationary series has constant statistical properties, such as mean, variance, and autocovariance, over time. Stationarity is essential for accurate modeling as it allows to assume that the patterns and relationships observed in the historical data will persist in the future. Inflation rate data often exhibits non-stationarity due to trends, seasonality, or other factors.\n",
    "\n",
    "In order to determine the stationarity of the inflation series, we utilized the Augmented Dickey Fuller (ADF) test. The ADF test examines the null hypothesis, which assumes that the data is non-stationary. If the P-value obtained from the test is lower than the significance level (0.05), we can reject the null hypothesis and conclude that the series is indeed stationary.\n",
    "\n",
    "To summarize, if the P-value is greater than 0.05 (indicating non-stationarity), further investigation is required to determine the appropriate order of differencing. Conversely, if the P-value is equal to or below 0.05, we can consider the order of differencing as 0."
   ]
  },
  {
   "cell_type": "code",
   "execution_count": 8,
   "id": "83fc0410-7c43-4ca4-919a-8ab1bbda753b",
   "metadata": {
    "tags": []
   },
   "outputs": [
    {
     "name": "stdout",
     "output_type": "stream",
     "text": [
      "P-value = 0.000108, the series is likely stationary.\n"
     ]
    }
   ],
   "source": [
    "# ADF test\n",
    "from statsmodels.tsa.stattools import adfuller\n",
    "\n",
    "def series_transformation(series):\n",
    "    result = adfuller(series.dropna(), regression='c', autolag='AIC')\n",
    "    p_value = result[1]\n",
    "    critical_value = result[4]['5%']\n",
    "    \n",
    "    if p_value <= 0.05 and result[0] < critical_value:\n",
    "        print('P-value = {:.6f}, the series is likely stationary.'.format(p_value))\n",
    "    else:\n",
    "        print('P-value = {:.6f}, the series is likely non-stationary.'.format(p_value))\n",
    "        \n",
    "series_transformation(df.diff())"
   ]
  },
  {
   "cell_type": "code",
   "execution_count": 9,
   "id": "1910c47b",
   "metadata": {},
   "outputs": [
    {
     "name": "stdout",
     "output_type": "stream",
     "text": [
      "1\n",
      "2\n",
      "1\n"
     ]
    }
   ],
   "source": [
    "# finding differencing value\n",
    "from pmdarima.arima.utils import ndiffs\n",
    "print(ndiffs(df['Inflation'], test='adf'))\n",
    "print(ndiffs(df['Inflation'], test='kpss'))\n",
    "print(ndiffs(df['Inflation'], test='pp'))"
   ]
  },
  {
   "cell_type": "code",
   "execution_count": 10,
   "id": "94ea03b3",
   "metadata": {},
   "outputs": [
    {
     "name": "stdout",
     "output_type": "stream",
     "text": [
      "Performing stepwise search to minimize aic\n",
      " ARIMA(2,2,2)(0,0,0)[0]             : AIC=371.871, Time=0.24 sec\n",
      " ARIMA(0,2,0)(0,0,0)[0]             : AIC=469.264, Time=0.04 sec\n",
      " ARIMA(1,2,0)(0,0,0)[0]             : AIC=429.725, Time=0.03 sec\n",
      " ARIMA(0,2,1)(0,0,0)[0]             : AIC=378.736, Time=0.03 sec\n",
      " ARIMA(1,2,2)(0,0,0)[0]             : AIC=inf, Time=0.12 sec\n",
      " ARIMA(2,2,1)(0,0,0)[0]             : AIC=372.683, Time=0.08 sec\n",
      " ARIMA(3,2,2)(0,0,0)[0]             : AIC=373.580, Time=0.16 sec\n",
      " ARIMA(2,2,3)(0,0,0)[0]             : AIC=inf, Time=0.26 sec\n",
      " ARIMA(1,2,1)(0,0,0)[0]             : AIC=370.699, Time=0.07 sec\n",
      " ARIMA(0,2,2)(0,0,0)[0]             : AIC=371.480, Time=0.07 sec\n",
      " ARIMA(2,2,0)(0,0,0)[0]             : AIC=406.732, Time=0.04 sec\n",
      " ARIMA(1,2,1)(0,0,0)[0] intercept   : AIC=inf, Time=0.23 sec\n",
      "\n",
      "Best model:  ARIMA(1,2,1)(0,0,0)[0]          \n",
      "Total fit time: 1.384 seconds\n"
     ]
    },
    {
     "data": {
      "text/html": [
       "<table class=\"simpletable\">\n",
       "<caption>SARIMAX Results</caption>\n",
       "<tr>\n",
       "  <th>Dep. Variable:</th>           <td>y</td>        <th>  No. Observations:  </th>    <td>268</td>  \n",
       "</tr>\n",
       "<tr>\n",
       "  <th>Model:</th>           <td>SARIMAX(1, 2, 1)</td> <th>  Log Likelihood     </th> <td>-182.350</td>\n",
       "</tr>\n",
       "<tr>\n",
       "  <th>Date:</th>            <td>Tue, 30 May 2023</td> <th>  AIC                </th>  <td>370.699</td>\n",
       "</tr>\n",
       "<tr>\n",
       "  <th>Time:</th>                <td>23:38:17</td>     <th>  BIC                </th>  <td>381.450</td>\n",
       "</tr>\n",
       "<tr>\n",
       "  <th>Sample:</th>             <td>01-31-2001</td>    <th>  HQIC               </th>  <td>375.018</td>\n",
       "</tr>\n",
       "<tr>\n",
       "  <th></th>                   <td>- 04-30-2023</td>   <th>                     </th>     <td> </td>   \n",
       "</tr>\n",
       "<tr>\n",
       "  <th>Covariance Type:</th>        <td>opg</td>       <th>                     </th>     <td> </td>   \n",
       "</tr>\n",
       "</table>\n",
       "<table class=\"simpletable\">\n",
       "<tr>\n",
       "     <td></td>       <th>coef</th>     <th>std err</th>      <th>z</th>      <th>P>|z|</th>  <th>[0.025</th>    <th>0.975]</th>  \n",
       "</tr>\n",
       "<tr>\n",
       "  <th>ar.L1</th>  <td>    0.2912</td> <td>    0.049</td> <td>    5.912</td> <td> 0.000</td> <td>    0.195</td> <td>    0.388</td>\n",
       "</tr>\n",
       "<tr>\n",
       "  <th>ma.L1</th>  <td>   -0.9717</td> <td>    0.010</td> <td>  -97.622</td> <td> 0.000</td> <td>   -0.991</td> <td>   -0.952</td>\n",
       "</tr>\n",
       "<tr>\n",
       "  <th>sigma2</th> <td>    0.2287</td> <td>    0.012</td> <td>   19.225</td> <td> 0.000</td> <td>    0.205</td> <td>    0.252</td>\n",
       "</tr>\n",
       "</table>\n",
       "<table class=\"simpletable\">\n",
       "<tr>\n",
       "  <th>Ljung-Box (L1) (Q):</th>     <td>0.03</td> <th>  Jarque-Bera (JB):  </th> <td>1004.46</td>\n",
       "</tr>\n",
       "<tr>\n",
       "  <th>Prob(Q):</th>                <td>0.87</td> <th>  Prob(JB):          </th>  <td>0.00</td>  \n",
       "</tr>\n",
       "<tr>\n",
       "  <th>Heteroskedasticity (H):</th> <td>2.95</td> <th>  Skew:              </th>  <td>-0.42</td> \n",
       "</tr>\n",
       "<tr>\n",
       "  <th>Prob(H) (two-sided):</th>    <td>0.00</td> <th>  Kurtosis:          </th>  <td>12.48</td> \n",
       "</tr>\n",
       "</table><br/><br/>Warnings:<br/>[1] Covariance matrix calculated using the outer product of gradients (complex-step)."
      ],
      "text/latex": [
       "\\begin{center}\n",
       "\\begin{tabular}{lclc}\n",
       "\\toprule\n",
       "\\textbf{Dep. Variable:}          &        y         & \\textbf{  No. Observations:  } &    268      \\\\\n",
       "\\textbf{Model:}                  & SARIMAX(1, 2, 1) & \\textbf{  Log Likelihood     } &  -182.350   \\\\\n",
       "\\textbf{Date:}                   & Tue, 30 May 2023 & \\textbf{  AIC                } &  370.699    \\\\\n",
       "\\textbf{Time:}                   &     23:38:17     & \\textbf{  BIC                } &  381.450    \\\\\n",
       "\\textbf{Sample:}                 &    01-31-2001    & \\textbf{  HQIC               } &  375.018    \\\\\n",
       "\\textbf{}                        &   - 04-30-2023   & \\textbf{                     } &             \\\\\n",
       "\\textbf{Covariance Type:}        &       opg        & \\textbf{                     } &             \\\\\n",
       "\\bottomrule\n",
       "\\end{tabular}\n",
       "\\begin{tabular}{lcccccc}\n",
       "                & \\textbf{coef} & \\textbf{std err} & \\textbf{z} & \\textbf{P$> |$z$|$} & \\textbf{[0.025} & \\textbf{0.975]}  \\\\\n",
       "\\midrule\n",
       "\\textbf{ar.L1}  &       0.2912  &        0.049     &     5.912  &         0.000        &        0.195    &        0.388     \\\\\n",
       "\\textbf{ma.L1}  &      -0.9717  &        0.010     &   -97.622  &         0.000        &       -0.991    &       -0.952     \\\\\n",
       "\\textbf{sigma2} &       0.2287  &        0.012     &    19.225  &         0.000        &        0.205    &        0.252     \\\\\n",
       "\\bottomrule\n",
       "\\end{tabular}\n",
       "\\begin{tabular}{lclc}\n",
       "\\textbf{Ljung-Box (L1) (Q):}     & 0.03 & \\textbf{  Jarque-Bera (JB):  } & 1004.46  \\\\\n",
       "\\textbf{Prob(Q):}                & 0.87 & \\textbf{  Prob(JB):          } &   0.00   \\\\\n",
       "\\textbf{Heteroskedasticity (H):} & 2.95 & \\textbf{  Skew:              } &  -0.42   \\\\\n",
       "\\textbf{Prob(H) (two-sided):}    & 0.00 & \\textbf{  Kurtosis:          } &  12.48   \\\\\n",
       "\\bottomrule\n",
       "\\end{tabular}\n",
       "%\\caption{SARIMAX Results}\n",
       "\\end{center}\n",
       "\n",
       "Warnings: \\newline\n",
       " [1] Covariance matrix calculated using the outer product of gradients (complex-step)."
      ],
      "text/plain": [
       "<class 'statsmodels.iolib.summary.Summary'>\n",
       "\"\"\"\n",
       "                               SARIMAX Results                                \n",
       "==============================================================================\n",
       "Dep. Variable:                      y   No. Observations:                  268\n",
       "Model:               SARIMAX(1, 2, 1)   Log Likelihood                -182.350\n",
       "Date:                Tue, 30 May 2023   AIC                            370.699\n",
       "Time:                        23:38:17   BIC                            381.450\n",
       "Sample:                    01-31-2001   HQIC                           375.018\n",
       "                         - 04-30-2023                                         \n",
       "Covariance Type:                  opg                                         \n",
       "==============================================================================\n",
       "                 coef    std err          z      P>|z|      [0.025      0.975]\n",
       "------------------------------------------------------------------------------\n",
       "ar.L1          0.2912      0.049      5.912      0.000       0.195       0.388\n",
       "ma.L1         -0.9717      0.010    -97.622      0.000      -0.991      -0.952\n",
       "sigma2         0.2287      0.012     19.225      0.000       0.205       0.252\n",
       "===================================================================================\n",
       "Ljung-Box (L1) (Q):                   0.03   Jarque-Bera (JB):              1004.46\n",
       "Prob(Q):                              0.87   Prob(JB):                         0.00\n",
       "Heteroskedasticity (H):               2.95   Skew:                            -0.42\n",
       "Prob(H) (two-sided):                  0.00   Kurtosis:                        12.48\n",
       "===================================================================================\n",
       "\n",
       "Warnings:\n",
       "[1] Covariance matrix calculated using the outer product of gradients (complex-step).\n",
       "\"\"\""
      ]
     },
     "execution_count": 10,
     "metadata": {},
     "output_type": "execute_result"
    }
   ],
   "source": [
    "# auto ARIMA function\n",
    "from pmdarima import auto_arima\n",
    "stepwise_fit = auto_arima(df['Inflation'], trace=True, suppress_warnings=True)\n",
    "stepwise_fit.summary()"
   ]
  },
  {
   "cell_type": "code",
   "execution_count": 11,
   "id": "bb82f63c",
   "metadata": {},
   "outputs": [
    {
     "name": "stderr",
     "output_type": "stream",
     "text": [
      "/Library/Frameworks/Python.framework/Versions/3.11/lib/python3.11/site-packages/statsmodels/tsa/base/tsa_model.py:473: ValueWarning: No frequency information was provided, so inferred frequency M will be used.\n",
      "  self._init_dates(dates, freq)\n"
     ]
    },
    {
     "data": {
      "text/html": [
       "<table class=\"simpletable\">\n",
       "<caption>SARIMAX Results</caption>\n",
       "<tr>\n",
       "  <th>Dep. Variable:</th>       <td>Inflation</td>    <th>  No. Observations:  </th>    <td>268</td>  \n",
       "</tr>\n",
       "<tr>\n",
       "  <th>Model:</th>            <td>ARIMA(2, 0, 1)</td>  <th>  Log Likelihood     </th> <td>-180.010</td>\n",
       "</tr>\n",
       "<tr>\n",
       "  <th>Date:</th>            <td>Tue, 30 May 2023</td> <th>  AIC                </th>  <td>370.020</td>\n",
       "</tr>\n",
       "<tr>\n",
       "  <th>Time:</th>                <td>23:38:17</td>     <th>  BIC                </th>  <td>387.975</td>\n",
       "</tr>\n",
       "<tr>\n",
       "  <th>Sample:</th>             <td>01-31-2001</td>    <th>  HQIC               </th>  <td>377.231</td>\n",
       "</tr>\n",
       "<tr>\n",
       "  <th></th>                   <td>- 04-30-2023</td>   <th>                     </th>     <td> </td>   \n",
       "</tr>\n",
       "<tr>\n",
       "  <th>Covariance Type:</th>        <td>opg</td>       <th>                     </th>     <td> </td>   \n",
       "</tr>\n",
       "</table>\n",
       "<table class=\"simpletable\">\n",
       "<tr>\n",
       "     <td></td>       <th>coef</th>     <th>std err</th>      <th>z</th>      <th>P>|z|</th>  <th>[0.025</th>    <th>0.975]</th>  \n",
       "</tr>\n",
       "<tr>\n",
       "  <th>const</th>  <td>    3.3317</td> <td>    1.194</td> <td>    2.790</td> <td> 0.005</td> <td>    0.991</td> <td>    5.673</td>\n",
       "</tr>\n",
       "<tr>\n",
       "  <th>ar.L1</th>  <td>    1.9256</td> <td>    0.055</td> <td>   35.129</td> <td> 0.000</td> <td>    1.818</td> <td>    2.033</td>\n",
       "</tr>\n",
       "<tr>\n",
       "  <th>ar.L2</th>  <td>   -0.9331</td> <td>    0.055</td> <td>  -16.987</td> <td> 0.000</td> <td>   -1.041</td> <td>   -0.825</td>\n",
       "</tr>\n",
       "<tr>\n",
       "  <th>ma.L1</th>  <td>   -0.7459</td> <td>    0.082</td> <td>   -9.123</td> <td> 0.000</td> <td>   -0.906</td> <td>   -0.586</td>\n",
       "</tr>\n",
       "<tr>\n",
       "  <th>sigma2</th> <td>    0.2204</td> <td>    0.013</td> <td>   17.314</td> <td> 0.000</td> <td>    0.195</td> <td>    0.245</td>\n",
       "</tr>\n",
       "</table>\n",
       "<table class=\"simpletable\">\n",
       "<tr>\n",
       "  <th>Ljung-Box (L1) (Q):</th>     <td>1.48</td> <th>  Jarque-Bera (JB):  </th> <td>311.79</td>\n",
       "</tr>\n",
       "<tr>\n",
       "  <th>Prob(Q):</th>                <td>0.22</td> <th>  Prob(JB):          </th>  <td>0.00</td> \n",
       "</tr>\n",
       "<tr>\n",
       "  <th>Heteroskedasticity (H):</th> <td>2.77</td> <th>  Skew:              </th>  <td>0.37</td> \n",
       "</tr>\n",
       "<tr>\n",
       "  <th>Prob(H) (two-sided):</th>    <td>0.00</td> <th>  Kurtosis:          </th>  <td>8.23</td> \n",
       "</tr>\n",
       "</table><br/><br/>Warnings:<br/>[1] Covariance matrix calculated using the outer product of gradients (complex-step)."
      ],
      "text/latex": [
       "\\begin{center}\n",
       "\\begin{tabular}{lclc}\n",
       "\\toprule\n",
       "\\textbf{Dep. Variable:}          &    Inflation     & \\textbf{  No. Observations:  } &    268      \\\\\n",
       "\\textbf{Model:}                  &  ARIMA(2, 0, 1)  & \\textbf{  Log Likelihood     } &  -180.010   \\\\\n",
       "\\textbf{Date:}                   & Tue, 30 May 2023 & \\textbf{  AIC                } &  370.020    \\\\\n",
       "\\textbf{Time:}                   &     23:38:17     & \\textbf{  BIC                } &  387.975    \\\\\n",
       "\\textbf{Sample:}                 &    01-31-2001    & \\textbf{  HQIC               } &  377.231    \\\\\n",
       "\\textbf{}                        &   - 04-30-2023   & \\textbf{                     } &             \\\\\n",
       "\\textbf{Covariance Type:}        &       opg        & \\textbf{                     } &             \\\\\n",
       "\\bottomrule\n",
       "\\end{tabular}\n",
       "\\begin{tabular}{lcccccc}\n",
       "                & \\textbf{coef} & \\textbf{std err} & \\textbf{z} & \\textbf{P$> |$z$|$} & \\textbf{[0.025} & \\textbf{0.975]}  \\\\\n",
       "\\midrule\n",
       "\\textbf{const}  &       3.3317  &        1.194     &     2.790  &         0.005        &        0.991    &        5.673     \\\\\n",
       "\\textbf{ar.L1}  &       1.9256  &        0.055     &    35.129  &         0.000        &        1.818    &        2.033     \\\\\n",
       "\\textbf{ar.L2}  &      -0.9331  &        0.055     &   -16.987  &         0.000        &       -1.041    &       -0.825     \\\\\n",
       "\\textbf{ma.L1}  &      -0.7459  &        0.082     &    -9.123  &         0.000        &       -0.906    &       -0.586     \\\\\n",
       "\\textbf{sigma2} &       0.2204  &        0.013     &    17.314  &         0.000        &        0.195    &        0.245     \\\\\n",
       "\\bottomrule\n",
       "\\end{tabular}\n",
       "\\begin{tabular}{lclc}\n",
       "\\textbf{Ljung-Box (L1) (Q):}     & 1.48 & \\textbf{  Jarque-Bera (JB):  } & 311.79  \\\\\n",
       "\\textbf{Prob(Q):}                & 0.22 & \\textbf{  Prob(JB):          } &  0.00   \\\\\n",
       "\\textbf{Heteroskedasticity (H):} & 2.77 & \\textbf{  Skew:              } &  0.37   \\\\\n",
       "\\textbf{Prob(H) (two-sided):}    & 0.00 & \\textbf{  Kurtosis:          } &  8.23   \\\\\n",
       "\\bottomrule\n",
       "\\end{tabular}\n",
       "%\\caption{SARIMAX Results}\n",
       "\\end{center}\n",
       "\n",
       "Warnings: \\newline\n",
       " [1] Covariance matrix calculated using the outer product of gradients (complex-step)."
      ],
      "text/plain": [
       "<class 'statsmodels.iolib.summary.Summary'>\n",
       "\"\"\"\n",
       "                               SARIMAX Results                                \n",
       "==============================================================================\n",
       "Dep. Variable:              Inflation   No. Observations:                  268\n",
       "Model:                 ARIMA(2, 0, 1)   Log Likelihood                -180.010\n",
       "Date:                Tue, 30 May 2023   AIC                            370.020\n",
       "Time:                        23:38:17   BIC                            387.975\n",
       "Sample:                    01-31-2001   HQIC                           377.231\n",
       "                         - 04-30-2023                                         \n",
       "Covariance Type:                  opg                                         \n",
       "==============================================================================\n",
       "                 coef    std err          z      P>|z|      [0.025      0.975]\n",
       "------------------------------------------------------------------------------\n",
       "const          3.3317      1.194      2.790      0.005       0.991       5.673\n",
       "ar.L1          1.9256      0.055     35.129      0.000       1.818       2.033\n",
       "ar.L2         -0.9331      0.055    -16.987      0.000      -1.041      -0.825\n",
       "ma.L1         -0.7459      0.082     -9.123      0.000      -0.906      -0.586\n",
       "sigma2         0.2204      0.013     17.314      0.000       0.195       0.245\n",
       "===================================================================================\n",
       "Ljung-Box (L1) (Q):                   1.48   Jarque-Bera (JB):               311.79\n",
       "Prob(Q):                              0.22   Prob(JB):                         0.00\n",
       "Heteroskedasticity (H):               2.77   Skew:                             0.37\n",
       "Prob(H) (two-sided):                  0.00   Kurtosis:                         8.23\n",
       "===================================================================================\n",
       "\n",
       "Warnings:\n",
       "[1] Covariance matrix calculated using the outer product of gradients (complex-step).\n",
       "\"\"\""
      ]
     },
     "execution_count": 11,
     "metadata": {},
     "output_type": "execute_result"
    }
   ],
   "source": [
    "# p=2, d=0, q=1\n",
    "from statsmodels.tsa.arima.model import ARIMA\n",
    "\n",
    "# fitting the model\n",
    "model = ARIMA(df['Inflation'], order=(2,0,1), freq='M')\n",
    "model_fit = model.fit()\n",
    "model_fit.summary()"
   ]
  },
  {
   "cell_type": "code",
   "execution_count": 12,
   "id": "eb2c474c",
   "metadata": {},
   "outputs": [],
   "source": [
    "# predict values\n",
    "pred = model_fit.predict(start=0, end=len(df) - 1, typ='levels', dynamic=False)"
   ]
  },
  {
   "cell_type": "code",
   "execution_count": 13,
   "id": "9115b884",
   "metadata": {},
   "outputs": [
    {
     "data": {
      "text/plain": [
       "2022-12-31    17.519751\n",
       "2023-01-31    16.346135\n",
       "2023-02-28    16.310558\n",
       "2023-03-31    18.407467\n",
       "2023-04-30    15.578614\n",
       "Freq: M, Name: predicted_mean, dtype: float64"
      ]
     },
     "execution_count": 13,
     "metadata": {},
     "output_type": "execute_result"
    }
   ],
   "source": [
    "# display last rows\n",
    "pred.tail()"
   ]
  },
  {
   "cell_type": "code",
   "execution_count": 14,
   "id": "dfa6fff9",
   "metadata": {},
   "outputs": [
    {
     "data": {
      "text/plain": [
       "0.5310259974689961"
      ]
     },
     "execution_count": 14,
     "metadata": {},
     "output_type": "execute_result"
    }
   ],
   "source": [
    "# root mean squared error\n",
    "from sklearn.metrics import mean_squared_error\n",
    "rmse = mean_squared_error(pred, df['Inflation'], squared=False)\n",
    "rmse"
   ]
  },
  {
   "cell_type": "code",
   "execution_count": 15,
   "id": "7ca1cedb",
   "metadata": {},
   "outputs": [
    {
     "data": {
      "text/plain": [
       "0.34787320592283705"
      ]
     },
     "execution_count": 15,
     "metadata": {},
     "output_type": "execute_result"
    }
   ],
   "source": [
    "# mean absolute error\n",
    "from sklearn.metrics import mean_absolute_error\n",
    "mae = mean_absolute_error(pred, df['Inflation'])\n",
    "mae"
   ]
  },
  {
   "cell_type": "code",
   "execution_count": 16,
   "id": "b8bdb4b5",
   "metadata": {},
   "outputs": [
    {
     "data": {
      "text/plain": [
       "inf"
      ]
     },
     "execution_count": 16,
     "metadata": {},
     "output_type": "execute_result"
    }
   ],
   "source": [
    "# mean absolute percentage error\n",
    "mape = np.mean(np.abs(df['Inflation'] - pred) / df['Inflation']) * 100\n",
    "mape"
   ]
  },
  {
   "cell_type": "code",
   "execution_count": 17,
   "id": "de881f74",
   "metadata": {},
   "outputs": [
    {
     "data": {
      "text/plain": [
       "0.9887431786658245"
      ]
     },
     "execution_count": 17,
     "metadata": {},
     "output_type": "execute_result"
    }
   ],
   "source": [
    "# correlation\n",
    "corr = np.corrcoef(pred, df['Inflation'])[0,1]\n",
    "corr"
   ]
  },
  {
   "cell_type": "code",
   "execution_count": 18,
   "id": "14dc0b53",
   "metadata": {},
   "outputs": [
    {
     "name": "stderr",
     "output_type": "stream",
     "text": [
      "/Library/Frameworks/Python.framework/Versions/3.11/lib/python3.11/site-packages/statsmodels/tsa/statespace/representation.py:374: FutureWarning: Unknown keyword arguments: dict_keys(['typ']).Passing unknown keyword arguments will raise a TypeError beginning in version 0.15.\n",
      "  warnings.warn(msg, FutureWarning)\n"
     ]
    }
   ],
   "source": [
    "# predict values\n",
    "forecast = model_fit.predict(start=0, end=len(df) + 4, typ='levels', dynamic=False)"
   ]
  },
  {
   "cell_type": "code",
   "execution_count": 19,
   "id": "3fab7469",
   "metadata": {
    "tags": []
   },
   "outputs": [
    {
     "data": {
      "text/plain": [
       "2023-05-31    13.963218\n",
       "2023-06-30    13.195508\n",
       "2023-07-31    12.404729\n",
       "2023-08-31    11.598389\n",
       "2023-09-30    10.783612\n",
       "Freq: M, Name: predicted_mean, dtype: float64"
      ]
     },
     "execution_count": 19,
     "metadata": {},
     "output_type": "execute_result"
    }
   ],
   "source": [
    "# display forecasted values\n",
    "forecast.tail(5)"
   ]
  }
 ],
 "metadata": {
  "kernelspec": {
   "display_name": "Python 3 (ipykernel)",
   "language": "python",
   "name": "python3"
  },
  "language_info": {
   "codemirror_mode": {
    "name": "ipython",
    "version": 3
   },
   "file_extension": ".py",
   "mimetype": "text/x-python",
   "name": "python",
   "nbconvert_exporter": "python",
   "pygments_lexer": "ipython3",
   "version": "3.11.0"
  }
 },
 "nbformat": 4,
 "nbformat_minor": 5
}
